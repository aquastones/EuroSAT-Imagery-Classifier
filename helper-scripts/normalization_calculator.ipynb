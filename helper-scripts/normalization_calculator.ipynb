{
 "cells": [
  {
   "cell_type": "markdown",
   "metadata": {},
   "source": [
    "<div style=\"text-align: center;\">\n",
    "    <h1><strong>Normalization Calculator</strong></h1>\n",
    "</div>"
   ]
  },
  {
   "cell_type": "markdown",
   "metadata": {},
   "source": [
    "#### Imports"
   ]
  },
  {
   "cell_type": "code",
   "execution_count": null,
   "metadata": {},
   "outputs": [],
   "source": [
    "import numpy as np\n",
    "import cv2\n",
    "import os\n",
    "import time"
   ]
  },
  {
   "cell_type": "markdown",
   "metadata": {},
   "source": [
    "#### Colors & Paths"
   ]
  },
  {
   "cell_type": "code",
   "execution_count": null,
   "metadata": {},
   "outputs": [],
   "source": [
    "CYAN, GREEN, YELLOW, BLUE, RED, RESET = \"\\033[96m\", \"\\033[92m\", \"\\033[93m\", \"\\033[94m\", \"\\033[91m\", \"\\033[0m\"\n",
    "IMAGES_PATH = r'data/EuroSATsplit'"
   ]
  },
  {
   "cell_type": "markdown",
   "metadata": {},
   "source": [
    "#### Calculation"
   ]
  },
  {
   "cell_type": "code",
   "execution_count": null,
   "metadata": {},
   "outputs": [],
   "source": [
    "pixel_sum, pixel_squared_sum, pixel_count = np.zeros(3, dtype=np.float64), np.zeros(3, dtype=np.float64), 0\n",
    "files_list = [os.path.join(root, file) for root, _, files in os.walk(IMAGES_PATH) for file in files if file.lower().endswith(('.png', '.jpg', '.jpeg'))]\n",
    "\n",
    "total_samples = len(files_list)\n",
    "start_time = time.time()\n",
    "\n",
    "for i, file_path in enumerate(files_list, 1):\n",
    "    img = cv2.imread(file_path, cv2.IMREAD_COLOR)\n",
    "    if img is not None:\n",
    "        img = cv2.cvtColor(img, cv2.COLOR_BGR2RGB).astype(np.float32) / 255.0\n",
    "        img_resized = cv2.resize(img, (64, 64))\n",
    "        pixel_sum += np.sum(img_resized, axis=(0, 1))\n",
    "        pixel_squared_sum += np.sum(img_resized ** 2, axis=(0, 1))\n",
    "        pixel_count += img_resized.shape[0] * img_resized.shape[1]\n",
    "\n",
    "    elapsed_time = time.time() - start_time\n",
    "    seconds_per_sample = elapsed_time / i\n",
    "    eta = (total_samples - i) * seconds_per_sample\n",
    "    eta_h, eta_m, eta_s = int(eta // 3600), int((eta % 3600) // 60), int(eta % 60)\n",
    "\n",
    "    print(f\"{CYAN}Processing:{RESET} {GREEN}{i}/{total_samples}{RESET} files \"\n",
    "          f\"({YELLOW}{elapsed_time:.2f}{RESET} sec elapsed, {BLUE}{seconds_per_sample:.2f}{RESET} sec/file, \"\n",
    "          f\"ETA: {RED}{eta_h}h {GREEN}{eta_m}m {BLUE}{eta_s}s{RESET})\", end=\"\\r\")\n",
    "\n",
    "print()\n",
    "\n",
    "if pixel_count > 0:\n",
    "    mean_np = pixel_sum / pixel_count\n",
    "    std_np = np.sqrt(pixel_squared_sum / pixel_count - mean_np ** 2)\n",
    "    std_np = np.maximum(std_np, 1e-6)  # Prevent extreme contrast\n",
    "else:\n",
    "    mean_np, std_np = np.zeros(3), np.ones(3)  # Default to safe values if no images processed\n",
    "\n",
    "with open(r'txts/normalization.txt', 'w') as file:\n",
    "    file.write(f\"mean={mean_np.tolist()}, std={std_np.tolist()}\")\n",
    "\n",
    "print(f\"\\n{GREEN}Processing complete!{RESET} Mean and std saved to 'normalization.txt'\")"
   ]
  }
 ],
 "metadata": {
  "kernelspec": {
   "display_name": "base",
   "language": "python",
   "name": "python3"
  },
  "language_info": {
   "codemirror_mode": {
    "name": "ipython",
    "version": 3
   },
   "file_extension": ".py",
   "mimetype": "text/x-python",
   "name": "python",
   "nbconvert_exporter": "python",
   "pygments_lexer": "ipython3",
   "version": "3.12.7"
  }
 },
 "nbformat": 4,
 "nbformat_minor": 2
}
