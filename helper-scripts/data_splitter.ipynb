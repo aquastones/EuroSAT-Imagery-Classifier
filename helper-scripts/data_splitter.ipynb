{
 "cells": [
  {
   "cell_type": "markdown",
   "metadata": {},
   "source": [
    "<div style=\"text-align: center;\">\n",
    "    <h1><strong>Data Splitter</strong></h1>\n",
    "</div>"
   ]
  },
  {
   "cell_type": "markdown",
   "metadata": {},
   "source": [
    "#### Imports"
   ]
  },
  {
   "cell_type": "code",
   "execution_count": 34,
   "metadata": {},
   "outputs": [],
   "source": [
    "import os\n",
    "import shutil\n",
    "import pandas as pd\n",
    "from timeit import default_timer as timer"
   ]
  },
  {
   "cell_type": "markdown",
   "metadata": {},
   "source": [
    "#### Paths"
   ]
  },
  {
   "cell_type": "code",
   "execution_count": 35,
   "metadata": {},
   "outputs": [],
   "source": [
    "DATA_PATH = \"data/EuroSAT\"\n",
    "OUT_PATH = \"data/EuroSATsplit\"\n",
    "\n",
    "csv_files = {\n",
    "    \"test\": \"data/EuroSAT/test.csv\",\n",
    "    \"train\": \"data/EuroSAT/train.csv\",\n",
    "    \"val\": \"data/EuroSAT/validation.csv\"\n",
    "}"
   ]
  },
  {
   "cell_type": "markdown",
   "metadata": {},
   "source": [
    "#### Colors"
   ]
  },
  {
   "cell_type": "code",
   "execution_count": 36,
   "metadata": {},
   "outputs": [],
   "source": [
    "RED = \"\\033[91m\"\n",
    "GREEN = \"\\033[92m\"\n",
    "BLUE = \"\\033[94m\"\n",
    "YELLOW = \"\\033[93m\"\n",
    "CYAN = \"\\033[96m\"\n",
    "RESET = \"\\033[0m\""
   ]
  },
  {
   "cell_type": "markdown",
   "metadata": {},
   "source": [
    "#### Functions"
   ]
  },
  {
   "cell_type": "code",
   "execution_count": 37,
   "metadata": {},
   "outputs": [],
   "source": [
    "def move_files(csv_path, subset_name):\n",
    "    SUBSET_PATH = os.path.join(OUT_PATH, subset_name)\n",
    "    os.makedirs(SUBSET_PATH, exist_ok=True)\n",
    "\n",
    "    df = pd.read_csv(csv_path)\n",
    "    total_samples = len(df)\n",
    "    start_time = timer()\n",
    "\n",
    "    for i, row in enumerate(df.itertuples(), start=1):\n",
    "        src = os.path.join(DATA_PATH, row.Filename)\n",
    "        dst_folder = os.path.join(SUBSET_PATH, row.ClassName)\n",
    "        os.makedirs(dst_folder, exist_ok=True)\n",
    "        dst = os.path.join(dst_folder, os.path.basename(row.Filename))\n",
    "\n",
    "        if os.path.exists(src):\n",
    "            shutil.copy2(src, dst)\n",
    "\n",
    "        elapsed_time = timer() - start_time\n",
    "        seconds_per_sample = elapsed_time / i if i > 0 else 0\n",
    "        remaining_samples = total_samples - i\n",
    "        eta_seconds = remaining_samples * seconds_per_sample\n",
    "\n",
    "        eta_h = int(eta_seconds // 3600)\n",
    "        eta_m = int((eta_seconds % 3600) // 60)\n",
    "        eta_s = int(eta_seconds % 60)\n",
    "\n",
    "        print(f\"{CYAN}{subset_name.capitalize()}:{RESET} moved {GREEN}{i}/{total_samples}{RESET} files \"\n",
    "              f\"({YELLOW}{elapsed_time:.2f}{RESET} sec elapsed, {BLUE}{seconds_per_sample:.2f}{RESET} sec/file, \"\n",
    "              f\"ETA: {RED}{eta_h}h {GREEN}{eta_m}m {BLUE}{eta_s}s{RESET})\", end=\"\\r\")\n",
    "\n",
    "    print()"
   ]
  },
  {
   "cell_type": "code",
   "execution_count": 38,
   "metadata": {},
   "outputs": [],
   "source": [
    "def inspect_dataset():\n",
    "    total_images = 0\n",
    "    subset_counts = {}\n",
    "\n",
    "    for subset in [\"train\",\"test\",\"val\"]:\n",
    "        subset_path = os.path.join(OUT_PATH, subset)\n",
    "        image_count = sum(len(files) for _, _, files in os.walk(subset_path))\n",
    "        subset_counts[subset] = image_count\n",
    "        total_images += image_count\n",
    "\n",
    "    for subset, count in subset_counts.items():\n",
    "        percentage = (count / total_images) * 100 if total_images > 0 else 0\n",
    "        print(f\"{CYAN}{subset.capitalize()}: {GREEN}{count} images{RESET} \"\n",
    "              f\"({YELLOW}{percentage:.2f}%{RESET})\")"
   ]
  },
  {
   "cell_type": "markdown",
   "metadata": {},
   "source": [
    "#### Move files"
   ]
  },
  {
   "cell_type": "code",
   "execution_count": 39,
   "metadata": {},
   "outputs": [
    {
     "name": "stdout",
     "output_type": "stream",
     "text": [
      "Moving files...\n",
      "\u001b[96mTest:\u001b[0m moved \u001b[92m2700/2700\u001b[0m files (\u001b[93m1.98\u001b[0m sec elapsed, \u001b[94m0.00\u001b[0m sec/file, ETA: \u001b[91m0h \u001b[92m0m \u001b[94m0s\u001b[0m)\n",
      "\u001b[96mTrain:\u001b[0m moved \u001b[92m18900/18900\u001b[0m files (\u001b[93m13.54\u001b[0m sec elapsed, \u001b[94m0.00\u001b[0m sec/file, ETA: \u001b[91m0h \u001b[92m0m \u001b[94m0s\u001b[0m)\n",
      "\u001b[96mVal:\u001b[0m moved \u001b[92m5400/5400\u001b[0m files (\u001b[93m3.89\u001b[0m sec elapsed, \u001b[94m0.00\u001b[0m sec/file, ETA: \u001b[91m0h \u001b[92m0m \u001b[94m0s\u001b[0m)\n",
      "\u001b[92mDataset organization complete!\u001b[0m\n",
      "\n",
      "Your new structure:\n",
      "\u001b[96mTrain: \u001b[92m18900 images\u001b[0m (\u001b[93m70.00%\u001b[0m)\n",
      "\u001b[96mTest: \u001b[92m2700 images\u001b[0m (\u001b[93m10.00%\u001b[0m)\n",
      "\u001b[96mVal: \u001b[92m5400 images\u001b[0m (\u001b[93m20.00%\u001b[0m)\n"
     ]
    }
   ],
   "source": [
    "print(f\"Moving files...\")\n",
    "\n",
    "for subset, csv_path in csv_files.items():\n",
    "    move_files(csv_path, subset)\n",
    "\n",
    "print(f\"{GREEN}Dataset organization complete!{RESET}\"\n",
    "      f\"\\n\\nYour new structure:\")\n",
    "inspect_dataset()"
   ]
  }
 ],
 "metadata": {
  "kernelspec": {
   "display_name": "base",
   "language": "python",
   "name": "python3"
  },
  "language_info": {
   "codemirror_mode": {
    "name": "ipython",
    "version": 3
   },
   "file_extension": ".py",
   "mimetype": "text/x-python",
   "name": "python",
   "nbconvert_exporter": "python",
   "pygments_lexer": "ipython3",
   "version": "3.12.7"
  }
 },
 "nbformat": 4,
 "nbformat_minor": 2
}
